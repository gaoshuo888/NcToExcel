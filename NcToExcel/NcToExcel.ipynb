{
 "cells": [
  {
   "cell_type": "code",
   "execution_count": 1,
   "id": "2315e274-de3b-43d0-8bc3-cd4f49047d94",
   "metadata": {},
   "outputs": [],
   "source": [
    "import netCDF4\n",
    "import pandas as pd\n",
    "from netCDF4 import num2date\n",
    "import numpy as np\n",
    "from datetime import timedelta"
   ]
  },
  {
   "cell_type": "code",
   "execution_count": 2,
   "id": "578cbfc6-93a2-4dda-b978-b114391c1158",
   "metadata": {},
   "outputs": [],
   "source": [
    "# 文件路径\n",
    "nc_file_path = 'E:\\\\DownLoad\\\\TotalP\\\\02.nc'\n",
    "excel_file_path = 'E:\\\\DownLoad\\\\TotalP\\\\output1.xlsx'"
   ]
  },
  {
   "cell_type": "code",
   "execution_count": 3,
   "id": "4162815f-277d-422b-8b3c-07c0714919bd",
   "metadata": {},
   "outputs": [],
   "source": [
    "# 经度和纬度范围\n",
    "lon_min, lon_max = 45, 46  # 经度范围\n",
    "lat_min, lat_max = 59, 60    # 纬度范围"
   ]
  },
  {
   "cell_type": "code",
   "execution_count": 4,
   "id": "3f39b69f-a899-4920-8a34-0243999205eb",
   "metadata": {},
   "outputs": [],
   "source": [
    "# 打开nc文件\n",
    "dataset = netCDF4.Dataset(nc_file_path)\n",
    "\n",
    "# 获取时间、经度和纬度变量\n",
    "time_var = dataset.variables['time']\n",
    "time = time_var[:]\n",
    "longitude = dataset.variables['longitude'][:]\n",
    "latitude = dataset.variables['latitude'][:]\n",
    "tp = dataset.variables['tp'][:]  # (time, latitude, longitude)\n",
    "\n",
    "# 获取时间单位\n",
    "time_units = time_var.units\n",
    "\n",
    "# 将时间变量转换为 UTC 时间\n",
    "time_dates_utc = num2date(time, units=time_units, calendar='gregorian')\n",
    "\n",
    "# 定义时间偏移量\n",
    "time_offset = timedelta(hours=8)  # UTC+8"
   ]
  },
  {
   "cell_type": "code",
   "execution_count": 5,
   "id": "6827884b-5451-4962-9fa0-5e7a96426603",
   "metadata": {},
   "outputs": [],
   "source": [
    "# 找到经纬度范围内的索引\n",
    "lon_indices = np.where((longitude >= lon_min) & (longitude <= lon_max))[0]\n",
    "lat_indices = np.where((latitude >= lat_min) & (latitude <= lat_max))[0]\n",
    "\n",
    "# 筛选经纬度范围内的数据\n",
    "tp_filtered = tp[:, lat_indices, :][:, :, lon_indices]\n",
    "filtered_latitude = latitude[lat_indices]\n",
    "filtered_longitude = longitude[lon_indices]"
   ]
  },
  {
   "cell_type": "code",
   "execution_count": 6,
   "id": "f363015e-9c41-4b3a-9b15-a63717dbeb27",
   "metadata": {},
   "outputs": [
    {
     "name": "stdout",
     "output_type": "stream",
     "text": [
      "数据已成功保存到 E:\\DownLoad\\TotalP\\output1.xlsx\n"
     ]
    }
   ],
   "source": [
    "# 创建一个ExcelWriter对象\n",
    "with pd.ExcelWriter(excel_file_path, engine='openpyxl') as writer:\n",
    "    for t_index, utc_date in enumerate(time_dates_utc):\n",
    "        # 转换为 UTC+8 时间\n",
    "        local_date = utc_date + time_offset\n",
    "\n",
    "        # 获取当前时间步的数据\n",
    "        tp_data = tp_filtered[t_index, :, :]\n",
    "\n",
    "        # 创建DataFrame\n",
    "        df = pd.DataFrame(tp_data, index=filtered_latitude, columns=filtered_longitude)\n",
    "        \n",
    "        # 创建工作表名称\n",
    "        sheet_name = local_date.strftime('%Y-%m-%d_%H-%M-%S')  # 格式化为字符串\n",
    "        \n",
    "        # 将DataFrame写入不同的工作表\n",
    "        df.to_excel(writer, sheet_name=sheet_name)\n",
    "\n",
    "print(f'数据已成功保存到 {excel_file_path}')"
   ]
  }
 ],
 "metadata": {
  "kernelspec": {
   "display_name": "Python 3 (ipykernel)",
   "language": "python",
   "name": "python3"
  },
  "language_info": {
   "codemirror_mode": {
    "name": "ipython",
    "version": 3
   },
   "file_extension": ".py",
   "mimetype": "text/x-python",
   "name": "python",
   "nbconvert_exporter": "python",
   "pygments_lexer": "ipython3",
   "version": "3.12.3"
  }
 },
 "nbformat": 4,
 "nbformat_minor": 5
}
