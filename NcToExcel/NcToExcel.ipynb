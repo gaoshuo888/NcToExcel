{
 "cells": [
  {
   "cell_type": "code",
   "execution_count": 1,
   "id": "b1e1fdd0-b25f-4c7e-a37e-04497b9a2f10",
   "metadata": {},
   "outputs": [],
   "source": [
    "import netCDF4\n",
    "import pandas as pd\n",
    "import numpy as np\n",
    "from netCDF4 import num2date"
   ]
  },
  {
   "cell_type": "code",
   "execution_count": 2,
   "id": "310854c1-ae2d-4105-b402-bc844a3e3199",
   "metadata": {},
   "outputs": [],
   "source": [
    "# 文件路径\n",
    "nc_file_path = 'E:\\\\DownLoad\\\\TotalP\\\\02.nc'\n",
    "excel_file_path = 'E:\\\\DownLoad\\\\TotalP\\\\output.xlsx'\n",
    "# 打开nc文件\n",
    "dataset = netCDF4.Dataset(nc_file_path)"
   ]
  },
  {
   "cell_type": "code",
   "execution_count": 3,
   "id": "874d6e2f-3141-45b0-b0b3-3595333e4f22",
   "metadata": {},
   "outputs": [
    {
     "name": "stdout",
     "output_type": "stream",
     "text": [
      "数据已成功保存到 E:\\DownLoad\\TotalP\\output.xlsx\n"
     ]
    }
   ],
   "source": [
    "# 获取时间、经度和纬度变量\n",
    "time_var = dataset.variables['time']\n",
    "time = time_var[:]\n",
    "longitude = dataset.variables['longitude'][:]\n",
    "latitude = dataset.variables['latitude'][:]\n",
    "tp = dataset.variables['tp'][:]  # (time, latitude, longitude)\n",
    "\n",
    "# 获取时间单位\n",
    "time_units = time_var.units\n",
    "\n",
    "# 将时间变量转换为日期时间格式\n",
    "time_dates = num2date(time, units=time_units, calendar='gregorian')\n",
    "\n",
    "# 创建一个ExcelWriter对象\n",
    "with pd.ExcelWriter(excel_file_path, engine='openpyxl') as writer:\n",
    "    for t_index, date in enumerate(time_dates):\n",
    "        # 获取当前时间步的数据\n",
    "        tp_data = tp[t_index, :, :]\n",
    "\n",
    "        # 创建DataFrame\n",
    "        df = pd.DataFrame(tp_data, index=latitude, columns=longitude)\n",
    "        \n",
    "        # 创建工作表名称\n",
    "        sheet_name = date.strftime('%Y-%m-%d_%H-%M-%S')  # 格式化为字符串\n",
    "        \n",
    "        # 将DataFrame写入不同的工作表\n",
    "        df.to_excel(writer, sheet_name=sheet_name)\n",
    "\n",
    "print(f'数据已成功保存到 {excel_file_path}')"
   ]
  }
 ],
 "metadata": {
  "kernelspec": {
   "display_name": "Python 3 (ipykernel)",
   "language": "python",
   "name": "python3"
  },
  "language_info": {
   "codemirror_mode": {
    "name": "ipython",
    "version": 3
   },
   "file_extension": ".py",
   "mimetype": "text/x-python",
   "name": "python",
   "nbconvert_exporter": "python",
   "pygments_lexer": "ipython3",
   "version": "3.12.3"
  }
 },
 "nbformat": 4,
 "nbformat_minor": 5
}
