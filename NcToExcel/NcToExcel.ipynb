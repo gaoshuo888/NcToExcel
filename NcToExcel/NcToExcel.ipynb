{
 "cells": [
  {
   "cell_type": "code",
   "execution_count": 1,
   "id": "2b5ab08a-372a-48eb-a48f-06bfab5e0079",
   "metadata": {},
   "outputs": [],
   "source": [
    "import netCDF4\n",
    "import pandas as pd\n",
    "from netCDF4 import num2date\n",
    "import numpy as np\n",
    "from datetime import datetime, timedelta\n",
    "import cftime"
   ]
  },
  {
   "cell_type": "raw",
   "id": "1b414dae-df0e-4731-a24a-daad92d18412",
   "metadata": {},
   "source": [
    "# 获取用户输入\n",
    "#文件路径\n",
    "nc_file_path = input(\"请输入 NetCDF 文件路径: \")\n",
    "excel_file_path = input(\"请输入输出的 Excel 文件路径: \")\n",
    "\n",
    "# 获取经度和纬度范围\n",
    "lon_min = float(input(\"请输入经度最小值: \"))\n",
    "lon_max = float(input(\"请输入经度最大值: \"))\n",
    "lat_min = float(input(\"请输入纬度最小值: \"))\n",
    "lat_max = float(input(\"请输入纬度最大值: \"))\n",
    "\n",
    "# 获取时间范围\n",
    "start_time_utc8 = input(\"请输入开始时间 (UTC+8, 格式 YYYY-MM-DD HH:MM:SS): \")\n",
    "end_time_utc8 = input(\"请输入结束时间 (UTC+8, 格式 YYYY-MM-DD HH:MM:SS): \")"
   ]
  },
  {
   "cell_type": "code",
   "execution_count": 2,
   "id": "868b154f-5d03-4a62-a91f-85531522cdd2",
   "metadata": {},
   "outputs": [],
   "source": [
    "# 文件路径\n",
    "nc_file_path = 'E:\\\\DownLoad\\\\TotalP\\\\02.nc'\n",
    "excel_file_path = 'E:\\\\DownLoad\\\\TotalP\\\\tp.xlsx'\n",
    "\n",
    "# 经度和纬度范围\n",
    "lon_min, lon_max = 45, 46  # 经度范围\n",
    "lat_min, lat_max = 59, 60    # 纬度范围\n",
    "\n",
    "# UTC+8 时间范围\n",
    "start_time_utc8 = '2023-01-01 12:00:00'  # 开始时间 (UTC+8)\n",
    "end_time_utc8 = '2023-01-03 20:00:00'    # 结束时间 (UTC+8)"
   ]
  },
  {
   "cell_type": "code",
   "execution_count": 3,
   "id": "1c4facc1-ba84-4ac2-9d29-b26ff2dfd4ac",
   "metadata": {},
   "outputs": [],
   "source": [
    "# 打开nc文件\n",
    "dataset = netCDF4.Dataset(nc_file_path)\n",
    "\n",
    "# 获取时间、经度和纬度变量\n",
    "time_var = dataset.variables['time']\n",
    "time = time_var[:]\n",
    "longitude = dataset.variables['longitude'][:]\n",
    "latitude = dataset.variables['latitude'][:]\n",
    "tp = dataset.variables['tp'][:]  # (time, latitude, longitude)"
   ]
  },
  {
   "cell_type": "code",
   "execution_count": 4,
   "id": "436e5c49-7c23-4c6b-b18a-a2a2ade73d7f",
   "metadata": {},
   "outputs": [],
   "source": [
    "# 获取时间单位\n",
    "time_units = time_var.units\n",
    "\n",
    "# 将时间变量转换为 UTC 时间\n",
    "time_dates_utc = num2date(time, units=time_units, calendar='gregorian')\n",
    "\n",
    "# 定义时间偏移量\n",
    "time_offset = timedelta(hours=8)  # UTC+8\n",
    "\n",
    "# 将 UTC+8 时间范围转换为 UTC 时间范围\n",
    "start_time_utc8_dt = datetime.strptime(start_time_utc8, '%Y-%m-%d %H:%M:%S')\n",
    "end_time_utc8_dt = datetime.strptime(end_time_utc8, '%Y-%m-%d %H:%M:%S')\n",
    "\n",
    "start_time_utc_dt = start_time_utc8_dt - time_offset\n",
    "end_time_utc_dt = end_time_utc8_dt - time_offset\n",
    "\n",
    "# 将转换后的时间范围转换为与 netCDF4 时间变量兼容的时间对象\n",
    "start_time_utc = cftime.date2num(start_time_utc_dt, units=time_units, calendar='gregorian')\n",
    "end_time_utc = cftime.date2num(end_time_utc_dt, units=time_units, calendar='gregorian')"
   ]
  },
  {
   "cell_type": "code",
   "execution_count": 5,
   "id": "e4dea83b-2299-442d-b3fe-7bc7def89067",
   "metadata": {},
   "outputs": [],
   "source": [
    "# 找到时间范围内的索引\n",
    "time_indices = np.where((time >= start_time_utc) & (time <= end_time_utc))[0]\n",
    "\n",
    "# 筛选时间范围内的数据\n",
    "tp_filtered = tp[time_indices, :, :]\n",
    "time_dates_filtered = time_dates_utc[time_indices]\n",
    "\n",
    "# 找到经纬度范围内的索引\n",
    "lon_indices = np.where((longitude >= lon_min) & (longitude <= lon_max))[0]\n",
    "lat_indices = np.where((latitude >= lat_min) & (latitude <= lat_max))[0]\n",
    "\n",
    "# 筛选经纬度范围内的数据\n",
    "tp_filtered = tp_filtered[:, lat_indices, :][:, :, lon_indices]\n",
    "filtered_latitude = latitude[lat_indices]\n",
    "filtered_longitude = longitude[lon_indices]"
   ]
  },
  {
   "cell_type": "code",
   "execution_count": 6,
   "id": "6b02985c-cfaa-499a-afd9-fe3f5d281ac2",
   "metadata": {},
   "outputs": [
    {
     "name": "stdout",
     "output_type": "stream",
     "text": [
      "数据已成功保存到 E:\\DownLoad\\TotalP\\tp.xlsx\n"
     ]
    }
   ],
   "source": [
    "# 创建一个ExcelWriter对象\n",
    "with pd.ExcelWriter(excel_file_path, engine='openpyxl') as writer:\n",
    "    for t_index, utc_date in enumerate(time_dates_filtered):\n",
    "        # 转换为 UTC+8 时间\n",
    "        local_date = utc_date + time_offset\n",
    "\n",
    "        # 获取当前时间步的数据\n",
    "        tp_data = tp_filtered[t_index, :, :]\n",
    "\n",
    "        # 创建DataFrame\n",
    "        df = pd.DataFrame(tp_data, index=filtered_latitude, columns=filtered_longitude)\n",
    "        \n",
    "        # 创建工作表名称\n",
    "        sheet_name = local_date.strftime('%Y-%m-%d_%H-%M-%S')  # 格式化为字符串\n",
    "        \n",
    "        # 将DataFrame写入不同的工作表\n",
    "        df.to_excel(writer, sheet_name=sheet_name)\n",
    "\n",
    "print(f'数据已成功保存到 {excel_file_path}')"
   ]
  }
 ],
 "metadata": {
  "kernelspec": {
   "display_name": "Python 3 (ipykernel)",
   "language": "python",
   "name": "python3"
  },
  "language_info": {
   "codemirror_mode": {
    "name": "ipython",
    "version": 3
   },
   "file_extension": ".py",
   "mimetype": "text/x-python",
   "name": "python",
   "nbconvert_exporter": "python",
   "pygments_lexer": "ipython3",
   "version": "3.12.3"
  }
 },
 "nbformat": 4,
 "nbformat_minor": 5
}
