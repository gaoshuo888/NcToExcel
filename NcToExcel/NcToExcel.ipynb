{
 "cells": [
  {
   "cell_type": "code",
   "execution_count": null,
   "id": "571aaa22-fad8-4e82-8002-cdc612d2b44e",
   "metadata": {},
   "outputs": [],
   "source": [
    "import netCDF4\n",
    "import pandas as pd\n",
    "from netCDF4 import num2date\n",
    "import numpy as np\n",
    "from datetime import timedelta"
   ]
  },
  {
   "cell_type": "code",
   "execution_count": null,
   "id": "e2ee8200-d346-4af2-8a59-c896af32ed58",
   "metadata": {},
   "outputs": [],
   "source": [
    "# 文件路径\n",
    "nc_file_path = 'E:\\\\DownLoad\\\\TotalP\\\\02.nc'\n",
    "excel_file_path = 'E:\\\\DownLoad\\\\TotalP\\\\output.xlsx'\n",
    "\n",
    "# 打开nc文件\n",
    "dataset = netCDF4.Dataset(nc_file_path)"
   ]
  },
  {
   "cell_type": "code",
   "execution_count": null,
   "id": "0ffefccb-c494-4105-87f2-72bbe7130b4e",
   "metadata": {},
   "outputs": [],
   "source": [
    "# 获取时间、经度和纬度变量\n",
    "time_var = dataset.variables['time']\n",
    "time = time_var[:]\n",
    "longitude = dataset.variables['longitude'][:]\n",
    "latitude = dataset.variables['latitude'][:]\n",
    "tp = dataset.variables['tp'][:]  # (time, latitude, longitude)"
   ]
  },
  {
   "cell_type": "code",
   "execution_count": null,
   "id": "70ad7af5-7818-456a-b1e7-f93ed339a607",
   "metadata": {},
   "outputs": [],
   "source": [
    "# 获取时间单位\n",
    "time_units = time_var.units\n",
    "\n",
    "# 将时间变量转换为 UTC 时间\n",
    "time_dates_utc = num2date(time, units=time_units, calendar='gregorian')\n",
    "\n",
    "# 定义时间偏移量\n",
    "time_offset = timedelta(hours=8)  # UTC+8"
   ]
  },
  {
   "cell_type": "code",
   "execution_count": null,
   "id": "55b5525d-9bf2-421d-ba86-7ac8026b02e0",
   "metadata": {},
   "outputs": [
    {
     "name": "stdout",
     "output_type": "stream",
     "text": [
      "数据已成功保存到 E:\\DownLoad\\TotalP\\output.xlsx\n"
     ]
    }
   ],
   "source": [
    "# 创建一个ExcelWriter对象\n",
    "with pd.ExcelWriter(excel_file_path, engine='openpyxl') as writer:\n",
    "    for t_index, utc_date in enumerate(time_dates_utc):\n",
    "        # 转换为 UTC+8 时间\n",
    "        local_date = utc_date + time_offset\n",
    "\n",
    "        # 获取当前时间步的数据\n",
    "        tp_data = tp[t_index, :, :]\n",
    "\n",
    "        # 创建DataFrame\n",
    "        df = pd.DataFrame(tp_data, index=latitude, columns=longitude)\n",
    "        \n",
    "        # 创建工作表名称\n",
    "        sheet_name = local_date.strftime('%Y-%m-%d_%H-%M-%S')  # 格式化为字符串\n",
    "        \n",
    "        # 将DataFrame写入不同的工作表\n",
    "        df.to_excel(writer, sheet_name=sheet_name)\n",
    "\n",
    "print(f'数据已成功保存到 {excel_file_path}')"
   ]
  }
 ],
 "metadata": {
  "kernelspec": {
   "display_name": "Python 3 (ipykernel)",
   "language": "python",
   "name": "python3"
  },
  "language_info": {
   "codemirror_mode": {
    "name": "ipython",
    "version": 3
   },
   "file_extension": ".py",
   "mimetype": "text/x-python",
   "name": "python",
   "nbconvert_exporter": "python",
   "pygments_lexer": "ipython3",
   "version": "3.12.3"
  }
 },
 "nbformat": 4,
 "nbformat_minor": 5
}
